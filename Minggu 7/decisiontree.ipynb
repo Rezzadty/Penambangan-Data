{
 "cells": [
  {
   "cell_type": "markdown",
   "metadata": {},
   "source": [
    "- Nama  : Reza Aditya Prabowo \n",
    "- NIM   : A11.2022.14201\n",
    "- Kelas : A11.4508\n",
    "- Penambangan Data\n",
    "- Praktek Latihan Tahapan Klasifikasi Decission Tree Pada File CSV "
   ]
  },
  {
   "cell_type": "markdown",
   "metadata": {},
   "source": [
    "Melakukan import libarry terlebih dahulu"
   ]
  },
  {
   "cell_type": "code",
   "execution_count": 46,
   "metadata": {},
   "outputs": [],
   "source": [
    "import numpy as np\n",
    "import pandas as pd\n",
    "from sklearn import tree"
   ]
  },
  {
   "cell_type": "code",
   "execution_count": 47,
   "metadata": {},
   "outputs": [],
   "source": [
    "# Melakukan Import Dataset dan mengubah kelas kolom (species) ke uniques interger\n",
    "# dan melakukan penghapusan pada kolom \"Id\", serta mengubah dataframe ke array Numpy\n",
    "# Untuk di delimiternya saya menggunakan \";\" dikarenakan mengurai nilai yang dipisahkan titik koma, di dalam file CSV\n",
    "irisDataset = pd.read_csv(r'D:\\\\File\\\\Kuliah Udinus\\\\Semester 5\\\\Penambangan Data\\\\Tugas\\\\Minggu 7\\\\Dataset_Iris.csv',\n",
    "                            delimiter = ';', header = 0) \n",
    "\n",
    "irisDataset[\"Species\"] = pd.factorize(irisDataset.Species)[0]\n",
    "irisDataset = irisDataset.drop(labels =\"Id\", axis=1)\n",
    "irisDataset = irisDataset.to_numpy()"
   ]
  },
  {
   "cell_type": "code",
   "execution_count": 48,
   "metadata": {},
   "outputs": [],
   "source": [
    "# Melakukan pembagian dataset, 40 baris untuk dilakukan training\n",
    "# dan 20 baris data untuk testing\n",
    "dataTraining = np.concatenate((irisDataset[0:40,:],\n",
    "                               irisDataset[40:90,:]), axis = 0)\n",
    "dataTesting = np.concatenate((irisDataset[40:50,:],\n",
    "                              irisDataset[90:100,:]), axis = 0)\n",
    "\n",
    "#Memecah dataset ke input dan label\n",
    "inputTraining = dataTraining[:,0:4]\n",
    "inputTesting = dataTesting[:,0:4]\n",
    "labelTraining = dataTraining[:,4]\n",
    "labelTesting = dataTesting[:,4]"
   ]
  },
  {
   "cell_type": "markdown",
   "metadata": {},
   "source": [
    "Mendifinisikan Descission Tree classifier"
   ]
  },
  {
   "cell_type": "code",
   "execution_count": 49,
   "metadata": {},
   "outputs": [
    {
     "name": "stdout",
     "output_type": "stream",
     "text": [
      "Label Sebenarnya  [0. 0. 0. 0. 0. 0. 0. 0. 0. 0. 1. 1. 1. 1. 1. 1. 1. 1. 1. 1.]\n",
      "Label Prediksi :  [0. 0. 0. 0. 0. 0. 0. 0. 0. 0. 1. 1. 1. 1. 1. 1. 1. 1. 1. 1.]\n",
      "Prediksi Benar :  20  data\n",
      "Prediksi Salah :  0  data\n",
      "Akurasi :  100.0 %\n"
     ]
    }
   ],
   "source": [
    "model = tree.DecisionTreeClassifier()\n",
    "\n",
    "#Melakukan Training Model\n",
    "model = model.fit(inputTraining, labelTraining)\n",
    "\n",
    "#Meprediksikan input data testing\n",
    "hasilPrediksi = model.predict(inputTesting)\n",
    "print(\"Label Sebenarnya \", labelTesting)\n",
    "print(\"Label Prediksi : \", hasilPrediksi)\n",
    "\n",
    "#Menghitung Akurasinya\n",
    "prediksiBenar = (hasilPrediksi == labelTesting).sum()\n",
    "prediksiSalah = (hasilPrediksi != labelTesting).sum()\n",
    "print(\"Prediksi Benar : \", prediksiBenar, \" data\")\n",
    "print(\"Prediksi Salah : \", prediksiSalah, \" data\")\n",
    "print(\"Akurasi : \", prediksiBenar/(prediksiBenar+prediksiSalah) * 100, \"%\")"
   ]
  }
 ],
 "metadata": {
  "kernelspec": {
   "display_name": "Python 3",
   "language": "python",
   "name": "python3"
  },
  "language_info": {
   "codemirror_mode": {
    "name": "ipython",
    "version": 3
   },
   "file_extension": ".py",
   "mimetype": "text/x-python",
   "name": "python",
   "nbconvert_exporter": "python",
   "pygments_lexer": "ipython3",
   "version": "3.12.3"
  }
 },
 "nbformat": 4,
 "nbformat_minor": 2
}
